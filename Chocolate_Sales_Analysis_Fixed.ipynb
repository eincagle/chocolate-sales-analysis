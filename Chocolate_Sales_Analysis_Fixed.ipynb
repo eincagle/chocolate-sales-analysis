{
 "cells": [
  {
   "cell_type": "markdown",
   "id": "c9e8e314",
   "metadata": {},
   "source": [
    "\n",
    "# Sales Trends & Performance Dashboard: Chocolate Sales Analysis\n",
    "\n",
    "## Overview\n",
    "This project analyzes chocolate sales data to uncover product performance, regional trends, and opportunities for optimization. Raw sales data was cleaned and analyzed using Python (Pandas and NumPy), and prepared for visualization in Tableau.\n"
   ]
  },
  {
   "cell_type": "markdown",
   "id": "7f25b417",
   "metadata": {},
   "source": [
    "\n",
    "## Objectives\n",
    "- Clean and preprocess chocolate sales data for analysis.\n",
    "- Analyze monthly trends, product performance, and regional sales.\n",
    "- Evaluate salesperson contribution and identify outliers.\n",
    "- Export data for dashboard visualization in Tableau.\n"
   ]
  },
  {
   "cell_type": "markdown",
   "id": "7b78112d",
   "metadata": {},
   "source": [
    "\n",
    "## Tools & Technologies\n",
    "- **Python**: Pandas, NumPy\n",
    "- **Tableau**: Visualization and dashboard creation"
   ]
  },
  {
   "cell_type": "code",
   "execution_count": 1,
   "id": "8e94f0fb",
   "metadata": {},
   "outputs": [],
   "source": [
    "\n",
    "import pandas as pd\n",
    "import numpy as np"
   ]
  },
  {
   "cell_type": "code",
   "execution_count": 2,
   "id": "abeec245",
   "metadata": {},
   "outputs": [],
   "source": [
    "\n",
    "df = pd.read_csv(\"Chocolate Sales.csv\")\n",
    "df.columns = df.columns.str.strip().str.lower().str.replace(\" \", \"_\")\n",
    "df['amount'] = df['amount'].replace(r'[\\$,]', '', regex=True).astype(float)\n",
    "df['date'] = pd.to_datetime(df['date'], format='%d-%b-%y', errors='coerce')"
   ]
  },
  {
   "cell_type": "code",
   "execution_count": 3,
   "id": "2d1ddeff",
   "metadata": {},
   "outputs": [
    {
     "data": {
      "text/plain": [
       "{'amount': {'mean': np.float64(5652.308043875685),\n",
       "  'median': np.float64(4868.5),\n",
       "  'std_dev': np.float64(4100.566611892091),\n",
       "  'range': np.float64(22043.0)}}"
      ]
     },
     "execution_count": 3,
     "metadata": {},
     "output_type": "execute_result"
    }
   ],
   "source": [
    "\n",
    "df['z_score_amount'] = (df['amount'] - np.mean(df['amount'])) / np.std(df['amount'])\n",
    "outliers = df[np.abs(df['z_score_amount']) > 3]\n",
    "summary_stats = {\n",
    "    'amount': {\n",
    "        'mean': np.mean(df['amount']),\n",
    "        'median': np.median(df['amount']),\n",
    "        'std_dev': np.std(df['amount']),\n",
    "        'range': np.ptp(df['amount'])\n",
    "    }\n",
    "}\n",
    "summary_stats"
   ]
  },
  {
   "cell_type": "code",
   "execution_count": 4,
   "id": "ce37e4c9",
   "metadata": {},
   "outputs": [],
   "source": [
    "\n",
    "df['month'] = df['date'].dt.month\n",
    "df['year'] = df['date'].dt.year"
   ]
  },
  {
   "cell_type": "code",
   "execution_count": 5,
   "id": "0de4ccc2",
   "metadata": {},
   "outputs": [],
   "source": [
    "\n",
    "monthly_sales = df.groupby(['year', 'month'])['amount'].sum().reset_index().sort_values(['year', 'month'])\n",
    "top_products = df.groupby('product')['amount'].sum().sort_values(ascending=False).reset_index()\n",
    "sales_by_country = df.groupby('country')['amount'].sum().sort_values(ascending=False).reset_index()\n",
    "sales_by_person = df.groupby('sales_person')['amount'].sum().sort_values(ascending=False).reset_index()\n",
    "aov_country = df.groupby('country')['amount'].mean().sort_values(ascending=False).reset_index().rename(columns={'amount': 'average_order_value'})\n",
    "correlation = df[['boxes_shipped', 'amount']].corr().iloc[0, 1]"
   ]
  },
  {
   "cell_type": "code",
   "execution_count": 6,
   "id": "c08c2f16",
   "metadata": {},
   "outputs": [],
   "source": [
    "\n",
    "df.to_csv(\"cleaned_chocolate_sales.csv\", index=False)"
   ]
  },
  {
   "cell_type": "markdown",
   "id": "d61f9dd8",
   "metadata": {},
   "source": [
    "\n",
    "## Key Insights\n",
    "\n",
    "- **Peak Sales Months:** January, June, and July 2022 were the top-performing months, with January alone generating over $896K in chocolate sales. This indicates that there was a strong post-holiday or New Year demand. \n",
    "\n",
    "- **Best-Selling Products:** The top three revenue-generating products were:\n",
    "  - *Smooth Sliky Salty* — $349,692\n",
    "  - *50% Dark Bites* — $341,712\n",
    "  - *White Choc* — $329,147  \n",
    "  These items may represent core offerings driving overall business success.\n",
    "\n",
    "- **Top Markets:** Australia led all regions with $1.14M in sales, followed by the UK and India, highlighting key markets with strong demand potential.\n",
    "\n",
    "- **Boxes vs. Revenue:** There is no linear correlation between the number of boxes shipped and total sales amount (correlation = **-0.0188**). Thi suggests that higher-priced products or bundle deals skew the relationship.\n"
   ]
  },
  {
   "cell_type": "markdown",
   "id": "d13ffcfe",
   "metadata": {},
   "source": [
    "\n",
    "## Tableau Dashboard\n",
    "[View Tableau Dashboard](https://public.tableau.com/app/profile/ein.cagle/viz/GlobalChocolateSalesDashboard_17443257086610/GlobalChocolateSalesDashboard)"
   ]
  }
 ],
 "metadata": {
  "kernelspec": {
   "display_name": "Python 3",
   "language": "python",
   "name": "python3"
  },
  "language_info": {
   "codemirror_mode": {
    "name": "ipython",
    "version": 3
   },
   "file_extension": ".py",
   "mimetype": "text/x-python",
   "name": "python",
   "nbconvert_exporter": "python",
   "pygments_lexer": "ipython3",
   "version": "3.12.2"
  }
 },
 "nbformat": 4,
 "nbformat_minor": 5
}
